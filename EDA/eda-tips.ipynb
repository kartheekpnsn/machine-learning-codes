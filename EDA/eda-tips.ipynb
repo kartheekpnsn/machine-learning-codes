{
 "cells": [
  {
   "cell_type": "markdown",
   "metadata": {},
   "source": [
    "## EDA Tips"
   ]
  },
  {
   "cell_type": "code",
   "execution_count": 21,
   "metadata": {
    "collapsed": true
   },
   "outputs": [],
   "source": [
    "library(data.table)\n",
    "library(ggplot2)"
   ]
  },
  {
   "cell_type": "markdown",
   "metadata": {},
   "source": [
    "### Tip: 1\n",
    "#### Data\n",
    "- Say, there are four datasets present with 2 columns (Gender, Target) and 100 rows\n",
    "- How to tell in which dataset Gender column is important"
   ]
  },
  {
   "cell_type": "code",
   "execution_count": 22,
   "metadata": {
    "collapsed": true
   },
   "outputs": [],
   "source": [
    "data = data.table(Gender = c(rep('M', 50), rep('F', 50)))"
   ]
  },
  {
   "cell_type": "code",
   "execution_count": 23,
   "metadata": {},
   "outputs": [
    {
     "data": {},
     "metadata": {},
     "output_type": "display_data"
    },
    {
     "data": {},
     "metadata": {},
     "output_type": "display_data"
    },
    {
     "data": {},
     "metadata": {},
     "output_type": "display_data"
    },
    {
     "data": {},
     "metadata": {},
     "output_type": "display_data"
    },
    {
     "data": {},
     "metadata": {},
     "output_type": "display_data"
    },
    {
     "data": {},
     "metadata": {},
     "output_type": "display_data"
    },
    {
     "data": {},
     "metadata": {},
     "output_type": "display_data"
    },
    {
     "data": {},
     "metadata": {},
     "output_type": "display_data"
    },
    {
     "data": {
      "text/plain": [
       "      target\n",
       "Gender   0   1\n",
       "     F   0 100\n",
       "     M 100   0"
      ]
     },
     "metadata": {},
     "output_type": "display_data"
    },
    {
     "data": {
      "text/plain": [
       "      target\n",
       "Gender  0  1\n",
       "     F 50 50\n",
       "     M 50 50"
      ]
     },
     "metadata": {},
     "output_type": "display_data"
    },
    {
     "data": {
      "text/plain": [
       "      target\n",
       "Gender  0  1\n",
       "     F 20 80\n",
       "     M 80 20"
      ]
     },
     "metadata": {},
     "output_type": "display_data"
    },
    {
     "data": {
      "text/plain": [
       "      target\n",
       "Gender  0  1\n",
       "     F 20 80\n",
       "     M 20 80"
      ]
     },
     "metadata": {},
     "output_type": "display_data"
    }
   ],
   "source": [
    "# # Data 1 (All males are 0's and All females are 1's)\n",
    "data1 = copy(data)\n",
    "data1[, target := ifelse(Gender == 'M', 0, 1)]\n",
    "\n",
    "# # Data 2 (Males and females have balanced 0's and 1's)\n",
    "data2 = copy(data)\n",
    "data2[, target := c(rep(0, 25), rep(1, 25), rep(0, 25), rep(1, 25))]\n",
    "\n",
    "# # Data 3 (Almost all Males are 0's and Almost all females are 1's)\n",
    "data3 = copy(data)\n",
    "data3[, target := 0]\n",
    "data3[Gender == 'M', target := c(rep(0, 40), rep(1, 10))]\n",
    "data3[Gender == 'F', target := c(rep(1, 40), rep(0, 10))]\n",
    "\n",
    "# # Data 4 (Almost all Males are 1's and Almost all females are 1's)\n",
    "data4 = copy(data)\n",
    "data4[, target := 0]\n",
    "data4[Gender == 'M', target := c(rep(0, 10), rep(1, 40))]\n",
    "data4[Gender == 'F', target := c(rep(1, 40), rep(0, 10))]\n",
    "\n",
    "data1[, prop.table(table(Gender, target), 1)* 100]\n",
    "data2[, prop.table(table(Gender, target), 1)* 100]\n",
    "data3[, prop.table(table(Gender, target), 1)* 100]\n",
    "data4[, prop.table(table(Gender, target), 1)* 100]"
   ]
  },
  {
   "cell_type": "markdown",
   "metadata": {},
   "source": [
    "Ideally Data 1, Data 3 are considered important.\n",
    "\n",
    "But, Data 4 will also be important if you interpret the problem statement in a wrong way. (which most of the newbies does !)\n",
    "    \n",
    "Our Problem statement is to seperate 0's and 1's effectively using Gender. Not the other way around !\n",
    "***\n",
    "#### Why Confusion?\n",
    "As a data scientist we can get two types of inferences by seeing\n",
    "\n",
    "**Data 3:**\n",
    "```\n",
    "Inference: 1: 80% of zeroes are males and 80% of ones are females\n",
    "\n",
    "Inference: 2: 80% of males are zeroes and 80% of females are ones\n",
    "```\n",
    "\n",
    "**Data 4:**\n",
    "```\n",
    "Inference: 1: 50% of zeroes are males and 50% of ones are females\n",
    "\n",
    "Inference: 2: 80% of males are ones and 80% of females are ones\n",
    "```\n",
    "***\n",
    "Considering Inference 2, the Gender column in Data 3 and Data 4 seems to be important. But, Considering Inference 1, it is important only in Data 3 (which is actually true)\n",
    "\n",
    "**Conclusion: ** Always go for validating Inference 1 to tell if a variable is important or not !\n"
   ]
  }
 ],
 "metadata": {
  "kernelspec": {
   "display_name": "R",
   "language": "R",
   "name": "ir"
  },
  "language_info": {
   "codemirror_mode": "r",
   "file_extension": ".r",
   "mimetype": "text/x-r-source",
   "name": "R",
   "pygments_lexer": "r",
   "version": "3.4.2"
  }
 },
 "nbformat": 4,
 "nbformat_minor": 2
}
